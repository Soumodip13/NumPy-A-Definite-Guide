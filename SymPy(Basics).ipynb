{
 "cells": [
  {
   "cell_type": "code",
   "execution_count": 2,
   "metadata": {},
   "outputs": [],
   "source": [
    "import sympy as sp"
   ]
  },
  {
   "cell_type": "code",
   "execution_count": 3,
   "metadata": {},
   "outputs": [],
   "source": [
    "sp.init_printing()"
   ]
  },
  {
   "cell_type": "code",
   "execution_count": 4,
   "metadata": {},
   "outputs": [],
   "source": [
    "from sympy import I,pi,oo"
   ]
  },
  {
   "cell_type": "code",
   "execution_count": 6,
   "metadata": {},
   "outputs": [
    {
     "data": {
      "text/latex": [
       "$\\displaystyle \\sqrt{x^{2}}$"
      ],
      "text/plain": [
       "   ____\n",
       "  ╱  2 \n",
       "╲╱  x  "
      ]
     },
     "execution_count": 6,
     "metadata": {},
     "output_type": "execute_result"
    }
   ],
   "source": [
    "x = sp.Symbol(\"x\")\n",
    "sp.sqrt(x**2)"
   ]
  },
  {
   "cell_type": "code",
   "execution_count": 7,
   "metadata": {},
   "outputs": [
    {
     "data": {
      "text/latex": [
       "$\\displaystyle \\frac{1}{\\sqrt[4]{x^{2} + y^{2}}}$"
      ],
      "text/plain": [
       "     1      \n",
       "────────────\n",
       "   _________\n",
       "4 ╱  2    2 \n",
       "╲╱  x  + y  "
      ]
     },
     "execution_count": 7,
     "metadata": {},
     "output_type": "execute_result"
    }
   ],
   "source": [
    "y = sp.Symbol(\"y\")\n",
    "sp.sqrt(1/sp.sqrt(x**2+y**2))"
   ]
  },
  {
   "cell_type": "code",
   "execution_count": 8,
   "metadata": {},
   "outputs": [
    {
     "data": {
      "text/latex": [
       "$\\displaystyle \\cos{\\left(\\pi x \\right)}$"
      ],
      "text/plain": [
       "cos(π⋅x)"
      ]
     },
     "execution_count": 8,
     "metadata": {},
     "output_type": "execute_result"
    }
   ],
   "source": [
    "sp.cos(x*pi)"
   ]
  },
  {
   "cell_type": "code",
   "execution_count": 10,
   "metadata": {},
   "outputs": [],
   "source": [
    "i = sp.Integer(19)"
   ]
  },
  {
   "cell_type": "code",
   "execution_count": 11,
   "metadata": {},
   "outputs": [
    {
     "data": {
      "text/latex": [
       "$\\displaystyle 8663234049605954426644038200675212212900743262211018069459689001$"
      ],
      "text/plain": [
       "8663234049605954426644038200675212212900743262211018069459689001"
      ]
     },
     "execution_count": 11,
     "metadata": {},
     "output_type": "execute_result"
    }
   ],
   "source": [
    "i**50"
   ]
  },
  {
   "cell_type": "code",
   "execution_count": 12,
   "metadata": {},
   "outputs": [
    {
     "data": {
      "text/latex": [
       "$\\displaystyle 93326215443944152681699238856266700490715968264381621468592963895217599993229915608941463976156518286253697920827223758251185210916864000000000000000000000000$"
      ],
      "text/plain": [
       "933262154439441526816992388562667004907159682643816214685929638952175999932299\n",
       "156089414639761565182862536979208272237582511852109168640000000000000000000000\n",
       "00"
      ]
     },
     "execution_count": 12,
     "metadata": {},
     "output_type": "execute_result"
    }
   ],
   "source": [
    "sp.factorial(100)"
   ]
  },
  {
   "cell_type": "code",
   "execution_count": 13,
   "metadata": {},
   "outputs": [
    {
     "data": {
      "text/latex": [
       "$\\displaystyle \\frac{11}{13}$"
      ],
      "text/plain": [
       "11\n",
       "──\n",
       "13"
      ]
     },
     "execution_count": 13,
     "metadata": {},
     "output_type": "execute_result"
    }
   ],
   "source": [
    "sp.Rational(11,13)"
   ]
  },
  {
   "cell_type": "code",
   "execution_count": 15,
   "metadata": {},
   "outputs": [],
   "source": [
    "x = sp.Rational(2,3)\n"
   ]
  },
  {
   "cell_type": "code",
   "execution_count": 16,
   "metadata": {},
   "outputs": [],
   "source": [
    "y = sp.Rational(4,5)"
   ]
  },
  {
   "cell_type": "code",
   "execution_count": 17,
   "metadata": {},
   "outputs": [
    {
     "data": {
      "text/latex": [
       "$\\displaystyle \\frac{22}{15}$"
      ],
      "text/plain": [
       "22\n",
       "──\n",
       "15"
      ]
     },
     "execution_count": 17,
     "metadata": {},
     "output_type": "execute_result"
    }
   ],
   "source": [
    "x+y"
   ]
  },
  {
   "cell_type": "code",
   "execution_count": 18,
   "metadata": {},
   "outputs": [
    {
     "data": {
      "text/latex": [
       "$\\displaystyle - \\frac{2}{15}$"
      ],
      "text/plain": [
       "-2/15"
      ]
     },
     "execution_count": 18,
     "metadata": {},
     "output_type": "execute_result"
    }
   ],
   "source": [
    "x-y"
   ]
  },
  {
   "cell_type": "code",
   "execution_count": 19,
   "metadata": {},
   "outputs": [
    {
     "data": {
      "text/latex": [
       "$\\displaystyle \\frac{8}{15}$"
      ],
      "text/plain": [
       "8/15"
      ]
     },
     "execution_count": 19,
     "metadata": {},
     "output_type": "execute_result"
    }
   ],
   "source": [
    "x*y"
   ]
  },
  {
   "cell_type": "code",
   "execution_count": 20,
   "metadata": {},
   "outputs": [
    {
     "data": {
      "text/latex": [
       "$\\displaystyle \\frac{2^{\\frac{4}{5}} \\sqrt[5]{3}}{3}$"
      ],
      "text/plain": [
       " 4/5 5 ___\n",
       "2   ⋅╲╱ 3 \n",
       "──────────\n",
       "    3     "
      ]
     },
     "execution_count": 20,
     "metadata": {},
     "output_type": "execute_result"
    }
   ],
   "source": [
    "x**y"
   ]
  },
  {
   "cell_type": "code",
   "execution_count": 21,
   "metadata": {},
   "outputs": [
    {
     "data": {
      "text/latex": [
       "$\\displaystyle \\frac{2 \\sqrt[3]{10}}{5}$"
      ],
      "text/plain": [
       "  3 ____\n",
       "2⋅╲╱ 10 \n",
       "────────\n",
       "   5    "
      ]
     },
     "execution_count": 21,
     "metadata": {},
     "output_type": "execute_result"
    }
   ],
   "source": [
    "y**x"
   ]
  },
  {
   "cell_type": "code",
   "execution_count": 22,
   "metadata": {},
   "outputs": [
    {
     "data": {
      "text/latex": [
       "$\\displaystyle \\infty$"
      ],
      "text/plain": [
       "∞"
      ]
     },
     "execution_count": 22,
     "metadata": {},
     "output_type": "execute_result"
    }
   ],
   "source": [
    "sp.oo"
   ]
  },
  {
   "cell_type": "code",
   "execution_count": 23,
   "metadata": {},
   "outputs": [
    {
     "data": {
      "text/latex": [
       "$\\displaystyle i$"
      ],
      "text/plain": [
       "ⅈ"
      ]
     },
     "execution_count": 23,
     "metadata": {},
     "output_type": "execute_result"
    }
   ],
   "source": [
    "sp.I"
   ]
  },
  {
   "cell_type": "code",
   "execution_count": 24,
   "metadata": {},
   "outputs": [
    {
     "data": {
      "text/latex": [
       "$\\displaystyle \\gamma$"
      ],
      "text/plain": [
       "γ"
      ]
     },
     "execution_count": 24,
     "metadata": {},
     "output_type": "execute_result"
    }
   ],
   "source": [
    "sp.EulerGamma"
   ]
  },
  {
   "cell_type": "code",
   "execution_count": 25,
   "metadata": {},
   "outputs": [
    {
     "data": {
      "text/latex": [
       "$\\displaystyle \\pi$"
      ],
      "text/plain": [
       "π"
      ]
     },
     "execution_count": 25,
     "metadata": {},
     "output_type": "execute_result"
    }
   ],
   "source": [
    "sp.pi"
   ]
  },
  {
   "cell_type": "code",
   "execution_count": 26,
   "metadata": {},
   "outputs": [
    {
     "data": {
      "text/latex": [
       "$\\displaystyle \\pi$"
      ],
      "text/plain": [
       "π"
      ]
     },
     "execution_count": 26,
     "metadata": {},
     "output_type": "execute_result"
    }
   ],
   "source": [
    "pi"
   ]
  },
  {
   "cell_type": "code",
   "execution_count": 27,
   "metadata": {},
   "outputs": [
    {
     "data": {
      "text/latex": [
       "$\\displaystyle e$"
      ],
      "text/plain": [
       "ℯ"
      ]
     },
     "execution_count": 27,
     "metadata": {},
     "output_type": "execute_result"
    }
   ],
   "source": [
    "sp.E"
   ]
  },
  {
   "cell_type": "code",
   "execution_count": 28,
   "metadata": {},
   "outputs": [
    {
     "data": {
      "text/latex": [
       "$\\displaystyle e^{2}$"
      ],
      "text/plain": [
       " 2\n",
       "ℯ "
      ]
     },
     "execution_count": 28,
     "metadata": {},
     "output_type": "execute_result"
    }
   ],
   "source": [
    "sp.E**2"
   ]
  },
  {
   "cell_type": "code",
   "execution_count": 31,
   "metadata": {},
   "outputs": [
    {
     "data": {
      "text/latex": [
       "$\\displaystyle 0$"
      ],
      "text/plain": [
       "0"
      ]
     },
     "execution_count": 31,
     "metadata": {},
     "output_type": "execute_result"
    }
   ],
   "source": [
    "sp.sin(pi*0)"
   ]
  },
  {
   "cell_type": "code",
   "execution_count": 32,
   "metadata": {},
   "outputs": [
    {
     "data": {
      "text/latex": [
       "$\\displaystyle 1$"
      ],
      "text/plain": [
       "1"
      ]
     },
     "execution_count": 32,
     "metadata": {},
     "output_type": "execute_result"
    }
   ],
   "source": [
    "sp.sin(pi*0.5)"
   ]
  },
  {
   "cell_type": "code",
   "execution_count": 34,
   "metadata": {},
   "outputs": [
    {
     "name": "stdout",
     "output_type": "stream",
     "text": [
      "0\n",
      "sin(pi/180)\n",
      "sin(pi/90)\n",
      "(-sqrt(2)*(1/4 + sqrt(5)/4)/2 - sqrt(2)*sqrt(5/8 - sqrt(5)/8)/2)*(-sqrt(5)/8 - 1/8 + sqrt(3)*sqrt(5/8 - sqrt(5)/8)/2) + (-sqrt(2)*(1/4 + sqrt(5)/4)/2 + sqrt(2)*sqrt(5/8 - sqrt(5)/8)/2)*(-sqrt(3)*(1/4 + sqrt(5)/4)/2 - sqrt(5/8 - sqrt(5)/8)/2)\n",
      "sin(pi/45)\n",
      "sin(pi/36)\n",
      "-sqrt(5)/8 - 1/8 + sqrt(3)*sqrt(5/8 - sqrt(5)/8)/2\n",
      "sin(7*pi/180)\n",
      "sin(2*pi/45)\n",
      "-sqrt(2)*sqrt(5/8 - sqrt(5)/8)/2 + sqrt(2)*(1/4 + sqrt(5)/4)/2\n",
      "sin(pi/18)\n",
      "sin(11*pi/180)\n",
      "sqrt(3)*(1/4 - sqrt(5)/4)/2 + sqrt(sqrt(5)/8 + 5/8)/2\n",
      "sin(13*pi/180)\n",
      "sin(7*pi/90)\n",
      "-sqrt(2)/4 + sqrt(6)/4\n",
      "sin(4*pi/45)\n",
      "sin(17*pi/180)\n",
      "-1/4 + sqrt(5)/4\n",
      "sin(19*pi/180)\n",
      "sin(pi/9)\n",
      "(-sqrt(2)*sqrt(sqrt(5)/8 + 5/8)/2 - sqrt(2)*(1/4 - sqrt(5)/4)/2)*(-sqrt(5)/8 + 1/8 + sqrt(3)*sqrt(sqrt(5)/8 + 5/8)/2) + (-sqrt(2)*sqrt(sqrt(5)/8 + 5/8)/2 + sqrt(2)*(1/4 - sqrt(5)/4)/2)*(-sqrt(sqrt(5)/8 + 5/8)/2 + sqrt(3)*(1/4 - sqrt(5)/4)/2)\n",
      "sin(11*pi/90)\n",
      "sin(23*pi/180)\n",
      "-sqrt(5/8 - sqrt(5)/8)/2 + sqrt(3)*(1/4 + sqrt(5)/4)/2\n",
      "sin(5*pi/36)\n",
      "sin(13*pi/90)\n",
      "sqrt(2)*(1/4 - sqrt(5)/4)/2 + sqrt(2)*sqrt(sqrt(5)/8 + 5/8)/2\n",
      "sin(7*pi/45)\n",
      "sin(29*pi/180)\n",
      "1/2\n",
      "sin(31*pi/180)\n",
      "sin(8*pi/45)\n",
      "(-sqrt(2)*sqrt(5/8 - sqrt(5)/8)/2 + sqrt(2)*(1/4 + sqrt(5)/4)/2)*(1/8 + sqrt(5)/8 + sqrt(3)*sqrt(5/8 - sqrt(5)/8)/2) + (-sqrt(2)*(1/4 + sqrt(5)/4)/2 - sqrt(2)*sqrt(5/8 - sqrt(5)/8)/2)*(-sqrt(3)*(1/4 + sqrt(5)/4)/2 + sqrt(5/8 - sqrt(5)/8)/2)\n",
      "sin(17*pi/90)\n",
      "sin(7*pi/36)\n",
      "sqrt(5/8 - sqrt(5)/8)\n",
      "sin(37*pi/180)\n",
      "sin(19*pi/90)\n",
      "(-sqrt(2)*sqrt(sqrt(5)/8 + 5/8)/2 + sqrt(2)*(1/4 - sqrt(5)/4)/2)*(-sqrt(sqrt(5)/8 + 5/8)/2 - sqrt(3)*(1/4 - sqrt(5)/4)/2) + (sqrt(2)*(1/4 - sqrt(5)/4)/2 + sqrt(2)*sqrt(sqrt(5)/8 + 5/8)/2)*(-1/8 + sqrt(5)/8 + sqrt(3)*sqrt(sqrt(5)/8 + 5/8)/2)\n",
      "sin(2*pi/9)\n",
      "sin(41*pi/180)\n",
      "-sqrt(5)/8 + 1/8 + sqrt(3)*sqrt(sqrt(5)/8 + 5/8)/2\n",
      "sin(43*pi/180)\n",
      "sin(11*pi/45)\n",
      "sqrt(2)/2\n",
      "sin(23*pi/90)\n",
      "sin(47*pi/180)\n",
      "-sqrt(3)*(1/4 - sqrt(5)/4)/2 + sqrt(sqrt(5)/8 + 5/8)/2\n",
      "sin(49*pi/180)\n",
      "sin(5*pi/18)\n",
      "(-sqrt(2)*sqrt(sqrt(5)/8 + 5/8)/2 - sqrt(2)*(1/4 - sqrt(5)/4)/2)*(sqrt(3)*(1/4 - sqrt(5)/4)/2 + sqrt(sqrt(5)/8 + 5/8)/2) + (-sqrt(2)*(1/4 - sqrt(5)/4)/2 + sqrt(2)*sqrt(sqrt(5)/8 + 5/8)/2)*(-1/8 + sqrt(5)/8 + sqrt(3)*sqrt(sqrt(5)/8 + 5/8)/2)\n",
      "sin(13*pi/45)\n",
      "sin(53*pi/180)\n",
      "1/4 + sqrt(5)/4\n",
      "sin(11*pi/36)\n",
      "sin(14*pi/45)\n",
      "(-sqrt(2)*(1/4 + sqrt(5)/4)/2 + sqrt(2)*sqrt(5/8 - sqrt(5)/8)/2)*(-sqrt(5/8 - sqrt(5)/8)/2 + sqrt(3)*(1/4 + sqrt(5)/4)/2) + (sqrt(2)*sqrt(5/8 - sqrt(5)/8)/2 + sqrt(2)*(1/4 + sqrt(5)/4)/2)*(1/8 + sqrt(5)/8 + sqrt(3)*sqrt(5/8 - sqrt(5)/8)/2)\n",
      "sin(29*pi/90)\n",
      "sin(59*pi/180)\n",
      "sqrt(3)/2\n",
      "sin(61*pi/180)\n",
      "sin(31*pi/90)\n",
      "-sqrt(2)*(1/4 - sqrt(5)/4)/2 + sqrt(2)*sqrt(sqrt(5)/8 + 5/8)/2\n",
      "sin(16*pi/45)\n",
      "sin(13*pi/36)\n",
      "1/8 + sqrt(5)/8 + sqrt(3)*sqrt(5/8 - sqrt(5)/8)/2\n",
      "sin(67*pi/180)\n",
      "sin(17*pi/45)\n",
      "(sqrt(2)*(1/4 - sqrt(5)/4)/2 + sqrt(2)*sqrt(sqrt(5)/8 + 5/8)/2)*(-sqrt(3)*(1/4 - sqrt(5)/4)/2 + sqrt(sqrt(5)/8 + 5/8)/2) + (-sqrt(2)*(1/4 - sqrt(5)/4)/2 + sqrt(2)*sqrt(sqrt(5)/8 + 5/8)/2)*(-sqrt(5)/8 + 1/8 + sqrt(3)*sqrt(sqrt(5)/8 + 5/8)/2)\n",
      "sin(7*pi/18)\n",
      "sin(71*pi/180)\n",
      "sqrt(sqrt(5)/8 + 5/8)\n",
      "sin(73*pi/180)\n",
      "sin(37*pi/90)\n",
      "sqrt(2)/4 + sqrt(6)/4\n",
      "sin(19*pi/45)\n",
      "sin(77*pi/180)\n",
      "-1/8 + sqrt(5)/8 + sqrt(3)*sqrt(sqrt(5)/8 + 5/8)/2\n",
      "sin(79*pi/180)\n",
      "sin(4*pi/9)\n",
      "sqrt(2)*sqrt(5/8 - sqrt(5)/8)/2 + sqrt(2)*(1/4 + sqrt(5)/4)/2\n",
      "sin(41*pi/90)\n",
      "sin(83*pi/180)\n",
      "sqrt(5/8 - sqrt(5)/8)/2 + sqrt(3)*(1/4 + sqrt(5)/4)/2\n",
      "sin(17*pi/36)\n",
      "sin(43*pi/90)\n",
      "(-sqrt(2)*sqrt(5/8 - sqrt(5)/8)/2 + sqrt(2)*(1/4 + sqrt(5)/4)/2)*(-sqrt(5)/8 - 1/8 + sqrt(3)*sqrt(5/8 - sqrt(5)/8)/2) + (sqrt(2)*sqrt(5/8 - sqrt(5)/8)/2 + sqrt(2)*(1/4 + sqrt(5)/4)/2)*(sqrt(5/8 - sqrt(5)/8)/2 + sqrt(3)*(1/4 + sqrt(5)/4)/2)\n",
      "sin(22*pi/45)\n",
      "sin(89*pi/180)\n"
     ]
    }
   ],
   "source": [
    "for i in range(0,90):\n",
    "    print(sp.sin(pi*i/180))"
   ]
  },
  {
   "cell_type": "code",
   "execution_count": 39,
   "metadata": {},
   "outputs": [],
   "source": [
    "x = sp.Symbol(\"x\")\n",
    "h = sp.Lambda(x, x**2)"
   ]
  },
  {
   "cell_type": "code",
   "execution_count": 40,
   "metadata": {},
   "outputs": [
    {
     "data": {
      "text/latex": [
       "$\\displaystyle \\left( x \\mapsto x^{2} \\right)$"
      ],
      "text/plain": [
       "     2\n",
       "x ↦ x "
      ]
     },
     "execution_count": 40,
     "metadata": {},
     "output_type": "execute_result"
    }
   ],
   "source": [
    "h"
   ]
  },
  {
   "cell_type": "code",
   "execution_count": 41,
   "metadata": {},
   "outputs": [
    {
     "data": {
      "text/latex": [
       "$\\displaystyle 25$"
      ],
      "text/plain": [
       "25"
      ]
     },
     "execution_count": 41,
     "metadata": {},
     "output_type": "execute_result"
    }
   ],
   "source": [
    "h(5)"
   ]
  },
  {
   "cell_type": "code",
   "execution_count": 42,
   "metadata": {},
   "outputs": [
    {
     "data": {
      "text/latex": [
       "$\\displaystyle 11.1110888889$"
      ],
      "text/plain": [
       "11.1110888889000"
      ]
     },
     "execution_count": 42,
     "metadata": {},
     "output_type": "execute_result"
    }
   ],
   "source": [
    "h(3.33333)"
   ]
  },
  {
   "cell_type": "code",
   "execution_count": 43,
   "metadata": {},
   "outputs": [],
   "source": [
    "y = sp.Symbol(\"y\")\n",
    "f = sp.Function(\"f\")(y)"
   ]
  },
  {
   "cell_type": "code",
   "execution_count": 44,
   "metadata": {},
   "outputs": [
    {
     "data": {
      "text/latex": [
       "$\\displaystyle f{\\left(y \\right)}$"
      ],
      "text/plain": [
       "f(y)"
      ]
     },
     "execution_count": 44,
     "metadata": {},
     "output_type": "execute_result"
    }
   ],
   "source": [
    "f"
   ]
  },
  {
   "cell_type": "code",
   "execution_count": 45,
   "metadata": {},
   "outputs": [],
   "source": [
    "f = 1 + 2*y + 3**y"
   ]
  },
  {
   "cell_type": "code",
   "execution_count": 46,
   "metadata": {},
   "outputs": [
    {
     "data": {
      "text/latex": [
       "$\\displaystyle 3^{y} + 2 y + 1$"
      ],
      "text/plain": [
       " y          \n",
       "3  + 2⋅y + 1"
      ]
     },
     "execution_count": 46,
     "metadata": {},
     "output_type": "execute_result"
    }
   ],
   "source": [
    "f"
   ]
  },
  {
   "cell_type": "code",
   "execution_count": 48,
   "metadata": {},
   "outputs": [],
   "source": [
    "g = sp.Function(\"g\")"
   ]
  },
  {
   "cell_type": "code",
   "execution_count": 49,
   "metadata": {},
   "outputs": [],
   "source": [
    "x = sp.Symbol(\"x\")"
   ]
  },
  {
   "cell_type": "code",
   "execution_count": 50,
   "metadata": {},
   "outputs": [],
   "source": [
    "g = 2*sp.sin(x)*sp.cos(x)"
   ]
  },
  {
   "cell_type": "code",
   "execution_count": 51,
   "metadata": {},
   "outputs": [
    {
     "data": {
      "text/latex": [
       "$\\displaystyle 2 \\sin{\\left(x \\right)} \\cos{\\left(x \\right)}$"
      ],
      "text/plain": [
       "2⋅sin(x)⋅cos(x)"
      ]
     },
     "execution_count": 51,
     "metadata": {},
     "output_type": "execute_result"
    }
   ],
   "source": [
    "g"
   ]
  },
  {
   "cell_type": "code",
   "execution_count": 52,
   "metadata": {},
   "outputs": [
    {
     "data": {
      "text/latex": [
       "$\\displaystyle \\sin{\\left(2 x \\right)}$"
      ],
      "text/plain": [
       "sin(2⋅x)"
      ]
     },
     "execution_count": 52,
     "metadata": {},
     "output_type": "execute_result"
    }
   ],
   "source": [
    "sp.simplify(g)"
   ]
  },
  {
   "cell_type": "code",
   "execution_count": 65,
   "metadata": {},
   "outputs": [],
   "source": [
    "g = sp.sqrt(-1+(-1)*((1+x)*(1-x)))"
   ]
  },
  {
   "cell_type": "code",
   "execution_count": 66,
   "metadata": {},
   "outputs": [
    {
     "data": {
      "text/latex": [
       "$\\displaystyle \\sqrt{- \\left(1 - x\\right) \\left(x + 1\\right) - 1}$"
      ],
      "text/plain": [
       "  ______________________\n",
       "╲╱ -(1 - x)⋅(x + 1) - 1 "
      ]
     },
     "execution_count": 66,
     "metadata": {},
     "output_type": "execute_result"
    }
   ],
   "source": [
    "g"
   ]
  },
  {
   "cell_type": "code",
   "execution_count": 67,
   "metadata": {},
   "outputs": [
    {
     "data": {
      "text/latex": [
       "$\\displaystyle \\sqrt{x^{2} - 2}$"
      ],
      "text/plain": [
       "   ________\n",
       "  ╱  2     \n",
       "╲╱  x  - 2 "
      ]
     },
     "execution_count": 67,
     "metadata": {},
     "output_type": "execute_result"
    }
   ],
   "source": [
    "sp.simplify(g)"
   ]
  },
  {
   "cell_type": "code",
   "execution_count": 68,
   "metadata": {},
   "outputs": [
    {
     "data": {
      "text/latex": [
       "$\\displaystyle \\sqrt{x^{2} - 2}$"
      ],
      "text/plain": [
       "   ________\n",
       "  ╱  2     \n",
       "╲╱  x  - 2 "
      ]
     },
     "execution_count": 68,
     "metadata": {},
     "output_type": "execute_result"
    }
   ],
   "source": [
    "sp.simplify(sp.simplify(g))"
   ]
  },
  {
   "cell_type": "code",
   "execution_count": 74,
   "metadata": {},
   "outputs": [],
   "source": [
    "f = sp.Function(\"f\")(x)"
   ]
  },
  {
   "cell_type": "code",
   "execution_count": 75,
   "metadata": {},
   "outputs": [],
   "source": [
    "f = x**2 + 2*x +1"
   ]
  },
  {
   "cell_type": "code",
   "execution_count": 76,
   "metadata": {},
   "outputs": [
    {
     "data": {
      "text/latex": [
       "$\\displaystyle x^{2} + 2 x + 1$"
      ],
      "text/plain": [
       " 2          \n",
       "x  + 2⋅x + 1"
      ]
     },
     "execution_count": 76,
     "metadata": {},
     "output_type": "execute_result"
    }
   ],
   "source": [
    "f"
   ]
  },
  {
   "cell_type": "code",
   "execution_count": 77,
   "metadata": {},
   "outputs": [
    {
     "data": {
      "text/latex": [
       "$\\displaystyle \\sqrt{x^{2} + 2 x + 1}$"
      ],
      "text/plain": [
       "   ______________\n",
       "  ╱  2           \n",
       "╲╱  x  + 2⋅x + 1 "
      ]
     },
     "execution_count": 77,
     "metadata": {},
     "output_type": "execute_result"
    }
   ],
   "source": [
    "sp.sqrt(f)"
   ]
  },
  {
   "cell_type": "code",
   "execution_count": 78,
   "metadata": {},
   "outputs": [
    {
     "data": {
      "text/latex": [
       "$\\displaystyle \\sqrt{x^{2} + 2 x + 1}$"
      ],
      "text/plain": [
       "   ______________\n",
       "  ╱  2           \n",
       "╲╱  x  + 2⋅x + 1 "
      ]
     },
     "execution_count": 78,
     "metadata": {},
     "output_type": "execute_result"
    }
   ],
   "source": [
    "sp.simplify(sp.sqrt(f))"
   ]
  },
  {
   "cell_type": "code",
   "execution_count": null,
   "metadata": {},
   "outputs": [],
   "source": []
  }
 ],
 "metadata": {
  "kernelspec": {
   "display_name": "Python 3",
   "language": "python",
   "name": "python3"
  },
  "language_info": {
   "codemirror_mode": {
    "name": "ipython",
    "version": 3
   },
   "file_extension": ".py",
   "mimetype": "text/x-python",
   "name": "python",
   "nbconvert_exporter": "python",
   "pygments_lexer": "ipython3",
   "version": "3.7.3"
  }
 },
 "nbformat": 4,
 "nbformat_minor": 2
}
